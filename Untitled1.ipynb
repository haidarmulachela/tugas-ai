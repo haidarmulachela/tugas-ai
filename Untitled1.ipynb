{
  "nbformat": 4,
  "nbformat_minor": 0,
  "metadata": {
    "colab": {
      "name": "Untitled1.ipynb",
      "provenance": [],
      "collapsed_sections": [],
      "authorship_tag": "ABX9TyP/eSrGyB+J8ukxiKU1F+3y",
      "include_colab_link": true
    },
    "kernelspec": {
      "name": "python3",
      "display_name": "Python 3"
    },
    "language_info": {
      "name": "python"
    }
  },
  "cells": [
    {
      "cell_type": "markdown",
      "metadata": {
        "id": "view-in-github",
        "colab_type": "text"
      },
      "source": [
        "<a href=\"https://colab.research.google.com/github/haidarmulachela/tugas-ai/blob/main/Untitled1.ipynb\" target=\"_parent\"><img src=\"https://colab.research.google.com/assets/colab-badge.svg\" alt=\"Open In Colab\"/></a>"
      ]
    },
    {
      "cell_type": "code",
      "execution_count": null,
      "metadata": {
        "id": "iNTvql8ng2X7"
      },
      "outputs": [],
      "source": [
        ""
      ]
    },
    {
      "cell_type": "code",
      "execution_count": 11,
      "metadata": {
        "colab": {
          "base_uri": "https://localhost:8080/"
        },
        "id": "KZH8O2qjFw51",
        "outputId": "c32ed956-0e5d-4c4c-8ecf-f68606b9ce89"
      },
      "outputs": [
        {
          "output_type": "stream",
          "name": "stdout",
          "text": [
            "Drive already mounted at /content/gdrive; to attempt to forcibly remount, call drive.mount(\"/content/gdrive\", force_remount=True).\n"
          ]
        }
      ],
      "source": [
        "from google.colab import drive\n",
        "drive.mount('/content/gdrive')"
      ]
    },
    {
      "cell_type": "code",
      "execution_count": 110,
      "metadata": {
        "colab": {
          "base_uri": "https://localhost:8080/"
        },
        "id": "Y5SA-neDGfeR",
        "outputId": "fa70ecc7-9a58-44ed-efc2-2c448b42fd84"
      },
      "outputs": [
        {
          "output_type": "stream",
          "name": "stdout",
          "text": [
            "/content/gdrive/MyDrive/Dataset\n"
          ]
        }
      ],
      "source": [
        "%cd /content/gdrive/MyDrive/Dataset"
      ]
    },
    {
      "cell_type": "code",
      "execution_count": 111,
      "metadata": {
        "colab": {
          "base_uri": "https://localhost:8080/"
        },
        "id": "dx-eH8I45s0v",
        "outputId": "644693b0-5913-44e7-8416-156ae549bd0f"
      },
      "outputs": [
        {
          "output_type": "stream",
          "name": "stdout",
          "text": [
            "jumlah train daisy 664\n",
            "jumlah train dandelion 706\n",
            "jumlah train rose 684\n",
            "jumlah train sunflower 633\n",
            "jumlah train tulip 792\n",
            "jumlah valid daisy 99\n",
            "jumlah valid dandelion 100\n",
            "jumlah valid rose 100\n",
            "jumlah valid sunflower 100\n",
            "jumlah valid tulip 100\n"
          ]
        }
      ],
      "source": [
        "import os\n",
        "\n",
        "base=\"/content/gdrive/MyDrive/Dataset\"\n",
        "train=os.path.join(base,'train/flowers')\n",
        "valid=os.path.join(base,'validation')\n",
        "\n",
        "daisy_train_path =train + '/daisy'\n",
        "dandelion_train_path =train + '/dandelion'\n",
        "rose_train_path =train + '/rose'\n",
        "sunflower_train_path =train + '/sunflower'\n",
        "tulip_train_path =train + '/tulip'\n",
        "\n",
        "daisy_valid_path =valid + '/daisy'\n",
        "dandelion_valid_path =valid + '/dandelion'\n",
        "rose_valid_path =valid + '/rose'\n",
        "sunflower_valid_path =valid + '/sunflower'\n",
        "tulip_valid_path =valid + '/tulip'\n",
        "\n",
        "daisy_len_train=len(os.listdir(daisy_train_path))\n",
        "dandelion_len_train=len(os.listdir(dandelion_train_path))\n",
        "rose_len_train=len(os.listdir(rose_train_path))\n",
        "sunflower_len_train=len(os.listdir(sunflower_train_path))\n",
        "tulip_len_train=len(os.listdir(tulip_train_path))\n",
        "daisy_len_valid=len(os.listdir(daisy_valid_path))\n",
        "dandelion_len_valid=len(os.listdir(dandelion_valid_path))\n",
        "rose_len_valid=len(os.listdir(rose_valid_path))\n",
        "sunflower_len_valid=len(os.listdir(sunflower_valid_path))\n",
        "tulip_len_valid=len(os.listdir(tulip_valid_path))\n",
        "print(\"jumlah train daisy\",daisy_len_train)\n",
        "print(\"jumlah train dandelion\",dandelion_len_train)\n",
        "print(\"jumlah train rose\",rose_len_train)\n",
        "print(\"jumlah train sunflower\",sunflower_len_train)\n",
        "print(\"jumlah train tulip\",tulip_len_train)\n",
        "print(\"jumlah valid daisy\",daisy_len_valid)\n",
        "print(\"jumlah valid dandelion\",dandelion_len_valid)\n",
        "print(\"jumlah valid rose\",rose_len_valid)\n",
        "print(\"jumlah valid sunflower\",sunflower_len_valid)\n",
        "print(\"jumlah valid tulip\",tulip_len_valid)"
      ]
    },
    {
      "cell_type": "code",
      "source": [
        ""
      ],
      "metadata": {
        "id": "opJkRHNYodDX"
      },
      "execution_count": 13,
      "outputs": []
    },
    {
      "cell_type": "code",
      "execution_count": 67,
      "metadata": {
        "colab": {
          "base_uri": "https://localhost:8080/"
        },
        "id": "mqL94y-EFDyA",
        "outputId": "9eaba426-395b-425e-aaa6-8e4fe89e7716"
      },
      "outputs": [
        {
          "output_type": "stream",
          "name": "stdout",
          "text": [
            "format daisy ['11439894966_dca877f0cd.jpg', '12193032636_b50ae7db35_n.jpg', '10300722094_28fa978807_n.jpg', '10555826524_423eb8bf71_n.jpg', '11834945233_a53b7a92ac_m.jpg', '12585131704_0f64b17059_m.jpg', '10559679065_50d2b16f6d.jpg', '11891885265_ccefec7284_n.jpg', '10841136265_af473efc60.jpg', '10466290366_cc72e33532.jpg']\n",
            "format dandelion ['10477378514_9ffbcec4cf_m.jpg', '10777398353_5a20bb218c.jpg', '10294487385_92a0676c7d_m.jpg', '10200780773_c6051a7d71_n.jpg', '10828951106_c3cd47983f.jpg', '10946896405_81d2d50941_m.jpg', '10779476016_9130714dc0.jpg', '10043234166_e6dd915111_n.jpg', '10778387133_9141024b10.jpg', '10437652486_aa86c14985.jpg']\n",
            "format rose ['11102341464_508d558dfc_n.jpg', '13929462317_96342a9a44.jpg', '14019883858_e5d2a0ec10_n.jpg', '10090824183_d02c613f10_m.jpg', '12238827553_cf427bfd51_n.jpg', '12240577184_b0de0e53ea_n.jpg', '12407768513_3440238148_n.jpg', '10503217854_e66a804309.jpg', '13979889721_42a59ca9fa_m.jpg', '12243069253_e512464095_n.jpg']\n",
            "format sunflower ['12471791574_bb1be83df4.jpg', '12282924083_fb80aa17d4_n.jpg', '10386503264_e05387e1f7_m.jpg', '14244410747_22691ece4a_n.jpg', '10541580714_ff6b171abd_n.jpg', '13096076565_72c2c60875_n.jpg', '10386522775_4f8c616999_m.jpg', '12323859023_447387dbf0_n.jpg', '10386702973_e74a34c806_n.jpg', '11881770944_22b4f2f8f6_n.jpg']\n",
            "format tulip ['11746548_26b3256922_n.jpg', '110147301_ad921e2828.jpg', '10094729603_eeca3f2cb6.jpg', '113960470_38fab8f2fb_m.jpg', '11441893003_ab83672800.jpg', '10163955604_ae0b830975_n.jpg', '112951086_150a59d499_n.jpg', '112651128_7b5d39a346_m.jpg', '11746367_d23a35b085_n.jpg', '107693873_86021ac4ea_n.jpg']\n"
          ]
        }
      ],
      "source": [
        "daisy_format=os.listdir(daisy_train_path)\n",
        "dandelion_format=os.listdir(dandelion_train_path)\n",
        "rose_format=os.listdir(rose_train_path)\n",
        "sunflower_format=os.listdir(sunflower_train_path)\n",
        "tulip_format=os.listdir(tulip_train_path)\n",
        "\n",
        "print(\"format daisy\",daisy_format[:10])\n",
        "print(\"format dandelion\",dandelion_format[:10])\n",
        "print(\"format rose\",rose_format[:10])\n",
        "print(\"format sunflower\",sunflower_format[:10])\n",
        "print(\"format tulip\",tulip_format[:10])"
      ]
    },
    {
      "cell_type": "code",
      "source": [
        ""
      ],
      "metadata": {
        "id": "aADNNmU7p4QE"
      },
      "execution_count": null,
      "outputs": []
    },
    {
      "cell_type": "code",
      "execution_count": 68,
      "metadata": {
        "colab": {
          "base_uri": "https://localhost:8080/"
        },
        "id": "98ZOummsLlIE",
        "outputId": "8b526d9c-f9b5-4260-ffda-fa1e6a635767"
      },
      "outputs": [
        {
          "output_type": "stream",
          "name": "stdout",
          "text": [
            "Found 3479 images belonging to 5 classes.\n",
            "Found 499 images belonging to 5 classes.\n"
          ]
        }
      ],
      "source": [
        "from tensorflow.keras.preprocessing.image import ImageDataGenerator\n",
        "\n",
        "train_datagen = ImageDataGenerator(rescale = 1.0/255.)\n",
        "valid_datagen = ImageDataGenerator(rescale = 1.0/255.)\n",
        "\n",
        "train_generator = train_datagen.flow_from_directory(train,batch_size=20,class_mode='categorical',target_size=(150,150))\n",
        "validation_generator = valid_datagen.flow_from_directory(valid,batch_size=20,class_mode='categorical',target_size=(150,150))"
      ]
    },
    {
      "cell_type": "code",
      "source": [
        ""
      ],
      "metadata": {
        "id": "Ea2O3KOnqXvT"
      },
      "execution_count": null,
      "outputs": []
    },
    {
      "cell_type": "code",
      "execution_count": 69,
      "metadata": {
        "id": "KERcSGXhq5U9"
      },
      "outputs": [],
      "source": [
        "import tensorflow as tf\n",
        "from tensorflow.keras import layers\n",
        "from tensorflow.keras import Model"
      ]
    },
    {
      "cell_type": "code",
      "execution_count": 95,
      "metadata": {
        "colab": {
          "base_uri": "https://localhost:8080/"
        },
        "id": "sOPz7Y_SPdxi",
        "outputId": "6df796c0-a3bb-4d8c-a5a8-355c7ed0900a"
      },
      "outputs": [
        {
          "output_type": "stream",
          "name": "stdout",
          "text": [
            "Model: \"model_15\"\n",
            "_________________________________________________________________\n",
            " Layer (type)                Output Shape              Param #   \n",
            "=================================================================\n",
            " input_16 (InputLayer)       [(None, 150, 150, 3)]     0         \n",
            "                                                                 \n",
            " flatten_15 (Flatten)        (None, 67500)             0         \n",
            "                                                                 \n",
            " dense_75 (Dense)            (None, 500)               33750500  \n",
            "                                                                 \n",
            " dense_76 (Dense)            (None, 500)               250500    \n",
            "                                                                 \n",
            " dense_77 (Dense)            (None, 500)               250500    \n",
            "                                                                 \n",
            " dense_78 (Dense)            (None, 500)               250500    \n",
            "                                                                 \n",
            " dense_79 (Dense)            (None, 500)               250500    \n",
            "                                                                 \n",
            " dense_80 (Dense)            (None, 5)                 2505      \n",
            "                                                                 \n",
            "=================================================================\n",
            "Total params: 34,755,005\n",
            "Trainable params: 34,755,005\n",
            "Non-trainable params: 0\n",
            "_________________________________________________________________\n",
            "None\n"
          ]
        }
      ],
      "source": [
        "image_input = layers.Input(shape=(150,150,3))\n",
        "x=layers.Flatten()(image_input)\n",
        "x=layers.Dense(500,activation='relu')(x)\n",
        "x=layers.Dense(500,activation='relu')(x)\n",
        "x=layers.Dense(500,activation='relu')(x)\n",
        "x=layers.Dense(500,activation='relu')(x)\n",
        "x=layers.Dense(500,activation='relu')(x)\n",
        "output=layers.Dense(5,activation='sigmoid')(x)\n",
        "\n",
        "model = Model(image_input, output)\n",
        "print(model.summary())"
      ]
    },
    {
      "cell_type": "code",
      "execution_count": 98,
      "metadata": {
        "id": "3qmpdjmxWfhe"
      },
      "outputs": [],
      "source": [
        "from tensorflow.keras.optimizers import RMSprop\n",
        "\n",
        "model.compile(optimizer='adam',\n",
        "              loss='categorical_crossentropy',metrics=['acc'])"
      ]
    },
    {
      "cell_type": "code",
      "execution_count": 100,
      "metadata": {
        "colab": {
          "base_uri": "https://localhost:8080/"
        },
        "id": "iU12SlCpcgNT",
        "outputId": "b9c9bdcb-0604-4986-a9cd-bd460740f514"
      },
      "outputs": [
        {
          "output_type": "stream",
          "name": "stdout",
          "text": [
            "Epoch 1/50\n",
            "50/50 [==============================] - 17s 343ms/step - loss: 1.4117 - acc: 0.3854 - val_loss: 1.5218 - val_acc: 0.3200\n",
            "Epoch 2/50\n",
            "50/50 [==============================] - 14s 269ms/step - loss: 1.4467 - acc: 0.3614 - val_loss: 1.4946 - val_acc: 0.2500\n",
            "Epoch 3/50\n",
            "50/50 [==============================] - 14s 270ms/step - loss: 1.3580 - acc: 0.4080 - val_loss: 1.2618 - val_acc: 0.5000\n",
            "Epoch 4/50\n",
            "50/50 [==============================] - 14s 270ms/step - loss: 1.3964 - acc: 0.3770 - val_loss: 1.4070 - val_acc: 0.3700\n",
            "Epoch 5/50\n",
            "50/50 [==============================] - 14s 271ms/step - loss: 1.2971 - acc: 0.4280 - val_loss: 1.3613 - val_acc: 0.4000\n",
            "Epoch 6/50\n",
            "50/50 [==============================] - 13s 268ms/step - loss: 1.3535 - acc: 0.4144 - val_loss: 1.3264 - val_acc: 0.3900\n",
            "Epoch 7/50\n",
            "50/50 [==============================] - 13s 267ms/step - loss: 1.3763 - acc: 0.3800 - val_loss: 1.3365 - val_acc: 0.3800\n",
            "Epoch 8/50\n",
            "50/50 [==============================] - 13s 267ms/step - loss: 1.3455 - acc: 0.4090 - val_loss: 1.2973 - val_acc: 0.4600\n",
            "Epoch 9/50\n",
            "50/50 [==============================] - 13s 266ms/step - loss: 1.2666 - acc: 0.4505 - val_loss: 1.2450 - val_acc: 0.4400\n",
            "Epoch 10/50\n",
            "50/50 [==============================] - 13s 266ms/step - loss: 1.2751 - acc: 0.4254 - val_loss: 1.2321 - val_acc: 0.4900\n",
            "Epoch 11/50\n",
            "50/50 [==============================] - 13s 265ms/step - loss: 1.2548 - acc: 0.4440 - val_loss: 1.4408 - val_acc: 0.3700\n",
            "Epoch 12/50\n",
            "50/50 [==============================] - 13s 266ms/step - loss: 1.2613 - acc: 0.4374 - val_loss: 1.3657 - val_acc: 0.4700\n",
            "Epoch 13/50\n",
            "50/50 [==============================] - 14s 273ms/step - loss: 1.2706 - acc: 0.4360 - val_loss: 1.2890 - val_acc: 0.4000\n",
            "Epoch 14/50\n",
            "50/50 [==============================] - 13s 267ms/step - loss: 1.2529 - acc: 0.4310 - val_loss: 1.2586 - val_acc: 0.4400\n",
            "Epoch 15/50\n",
            "50/50 [==============================] - 13s 267ms/step - loss: 1.2913 - acc: 0.4340 - val_loss: 1.6543 - val_acc: 0.3100\n",
            "Epoch 16/50\n",
            "50/50 [==============================] - 13s 267ms/step - loss: 1.3465 - acc: 0.4060 - val_loss: 1.3484 - val_acc: 0.4200\n",
            "Epoch 17/50\n",
            "50/50 [==============================] - 13s 266ms/step - loss: 1.2862 - acc: 0.4344 - val_loss: 1.2291 - val_acc: 0.5400\n",
            "Epoch 18/50\n",
            "50/50 [==============================] - 13s 266ms/step - loss: 1.2010 - acc: 0.5000 - val_loss: 1.3604 - val_acc: 0.4200\n",
            "Epoch 19/50\n",
            "50/50 [==============================] - 13s 266ms/step - loss: 1.2223 - acc: 0.4400 - val_loss: 1.2666 - val_acc: 0.4200\n",
            "Epoch 20/50\n",
            "50/50 [==============================] - 13s 267ms/step - loss: 1.2019 - acc: 0.4710 - val_loss: 1.5364 - val_acc: 0.4100\n",
            "Epoch 21/50\n",
            "50/50 [==============================] - 13s 266ms/step - loss: 1.1917 - acc: 0.4640 - val_loss: 1.4025 - val_acc: 0.4400\n",
            "Epoch 22/50\n",
            "50/50 [==============================] - 13s 265ms/step - loss: 1.1951 - acc: 0.4965 - val_loss: 1.3645 - val_acc: 0.3900\n",
            "Epoch 23/50\n",
            "50/50 [==============================] - 13s 266ms/step - loss: 1.1657 - acc: 0.4750 - val_loss: 1.2000 - val_acc: 0.4900\n",
            "Epoch 24/50\n",
            "50/50 [==============================] - 13s 265ms/step - loss: 1.1842 - acc: 0.4850 - val_loss: 1.3383 - val_acc: 0.4200\n",
            "Epoch 25/50\n",
            "50/50 [==============================] - 13s 265ms/step - loss: 1.2051 - acc: 0.5000 - val_loss: 1.2693 - val_acc: 0.4800\n",
            "Epoch 26/50\n",
            "50/50 [==============================] - 13s 263ms/step - loss: 1.1896 - acc: 0.4760 - val_loss: 1.3917 - val_acc: 0.4000\n",
            "Epoch 27/50\n",
            "50/50 [==============================] - 13s 267ms/step - loss: 1.1878 - acc: 0.4770 - val_loss: 1.1990 - val_acc: 0.4100\n",
            "Epoch 28/50\n",
            "50/50 [==============================] - 13s 267ms/step - loss: 1.1539 - acc: 0.4775 - val_loss: 1.1867 - val_acc: 0.4400\n",
            "Epoch 29/50\n",
            "50/50 [==============================] - 14s 269ms/step - loss: 1.1753 - acc: 0.4860 - val_loss: 1.3534 - val_acc: 0.5400\n",
            "Epoch 30/50\n",
            "50/50 [==============================] - 14s 269ms/step - loss: 1.1306 - acc: 0.4875 - val_loss: 1.2532 - val_acc: 0.4300\n",
            "Epoch 31/50\n",
            "50/50 [==============================] - 13s 267ms/step - loss: 1.0892 - acc: 0.5130 - val_loss: 1.3457 - val_acc: 0.4500\n",
            "Epoch 32/50\n",
            "50/50 [==============================] - 13s 267ms/step - loss: 1.0909 - acc: 0.5010 - val_loss: 1.1975 - val_acc: 0.4300\n",
            "Epoch 33/50\n",
            "50/50 [==============================] - 13s 269ms/step - loss: 1.1349 - acc: 0.5060 - val_loss: 1.3691 - val_acc: 0.4400\n",
            "Epoch 34/50\n",
            "50/50 [==============================] - 13s 266ms/step - loss: 1.0825 - acc: 0.5310 - val_loss: 1.3360 - val_acc: 0.3800\n",
            "Epoch 35/50\n",
            "50/50 [==============================] - 13s 265ms/step - loss: 1.0704 - acc: 0.5300 - val_loss: 1.3932 - val_acc: 0.3900\n",
            "Epoch 36/50\n",
            "50/50 [==============================] - 13s 268ms/step - loss: 1.1059 - acc: 0.5125 - val_loss: 1.2439 - val_acc: 0.4100\n",
            "Epoch 37/50\n",
            "50/50 [==============================] - 13s 265ms/step - loss: 1.1305 - acc: 0.5200 - val_loss: 1.3682 - val_acc: 0.4800\n",
            "Epoch 38/50\n",
            "50/50 [==============================] - 13s 265ms/step - loss: 1.1219 - acc: 0.5075 - val_loss: 1.3809 - val_acc: 0.4300\n",
            "Epoch 39/50\n",
            "50/50 [==============================] - 13s 267ms/step - loss: 1.0656 - acc: 0.5200 - val_loss: 1.2510 - val_acc: 0.4500\n",
            "Epoch 40/50\n",
            "50/50 [==============================] - 13s 268ms/step - loss: 1.1039 - acc: 0.5140 - val_loss: 1.2848 - val_acc: 0.5200\n",
            "Epoch 41/50\n",
            "50/50 [==============================] - 14s 283ms/step - loss: 1.1359 - acc: 0.5210 - val_loss: 1.4220 - val_acc: 0.4000\n",
            "Epoch 42/50\n",
            "50/50 [==============================] - 13s 268ms/step - loss: 1.1217 - acc: 0.5325 - val_loss: 1.2896 - val_acc: 0.4700\n",
            "Epoch 43/50\n",
            "50/50 [==============================] - 13s 267ms/step - loss: 1.1097 - acc: 0.5385 - val_loss: 1.4718 - val_acc: 0.3300\n",
            "Epoch 44/50\n",
            "50/50 [==============================] - 13s 267ms/step - loss: 1.1145 - acc: 0.5215 - val_loss: 1.4192 - val_acc: 0.3900\n",
            "Epoch 45/50\n",
            "50/50 [==============================] - 13s 265ms/step - loss: 1.0577 - acc: 0.5425 - val_loss: 1.2896 - val_acc: 0.4500\n",
            "Epoch 46/50\n",
            "50/50 [==============================] - 13s 267ms/step - loss: 1.0528 - acc: 0.5390 - val_loss: 1.6203 - val_acc: 0.3500\n",
            "Epoch 47/50\n",
            "50/50 [==============================] - 13s 267ms/step - loss: 1.0933 - acc: 0.5290 - val_loss: 1.1640 - val_acc: 0.5400\n",
            "Epoch 48/50\n",
            "50/50 [==============================] - 13s 267ms/step - loss: 1.0407 - acc: 0.5390 - val_loss: 1.3378 - val_acc: 0.4400\n",
            "Epoch 49/50\n",
            "50/50 [==============================] - 13s 266ms/step - loss: 1.0791 - acc: 0.5195 - val_loss: 1.1746 - val_acc: 0.5000\n",
            "Epoch 50/50\n",
            "50/50 [==============================] - 13s 267ms/step - loss: 1.0328 - acc: 0.5430 - val_loss: 1.4282 - val_acc: 0.3200\n"
          ]
        }
      ],
      "source": [
        "history = model.fit(train_generator,steps_per_epoch=50,epochs=50,\n",
        "                    validation_data=validation_generator,\n",
        "                    validation_steps=5)"
      ]
    },
    {
      "cell_type": "code",
      "execution_count": 101,
      "metadata": {
        "colab": {
          "base_uri": "https://localhost:8080/",
          "height": 569
        },
        "id": "zacinnnTsMDF",
        "outputId": "0e0376a8-79d1-4768-d654-ebfd8c2a697e"
      },
      "outputs": [
        {
          "output_type": "execute_result",
          "data": {
            "text/plain": [
              "Text(0.5, 1.0, 'Akurasi validasi')"
            ]
          },
          "metadata": {},
          "execution_count": 101
        },
        {
          "output_type": "display_data",
          "data": {
            "image/png": "[encoded data removed]",
            "text/plain": [
              "<Figure size 432x288 with 1 Axes>"
            ]
          },
          "metadata": {}
        },
        {
          "output_type": "display_data",
          "data": {
            "image/png": "[encoded data removed]",
            "text/plain": [
              "<Figure size 432x288 with 1 Axes>"
            ]
          },
          "metadata": {}
        }
      ],
      "source": [
        "import matplotlib.pyplot as plt\n",
        "\n",
        "acc     =history.history['acc']\n",
        "val_acc =history.history['val_acc']\n",
        "loss    =history.history['loss']\n",
        "val_loss =history.history['val_loss']\n",
        "\n",
        "epochs =range(len(acc))\n",
        "\n",
        "plt.plot (epochs, acc)\n",
        "plt.plot (epochs, val_acc)\n",
        "plt.title ('Akurasi training')\n",
        "plt.figure()\n",
        "\n",
        "plt.plot (epochs, loss)\n",
        "plt.plot (epochs, val_loss)\n",
        "plt.title ('Akurasi validasi')\n"
      ]
    },
    {
      "cell_type": "code",
      "execution_count": 112,
      "metadata": {
        "colab": {
          "base_uri": "https://localhost:8080/"
        },
        "id": "NJjGcKdC11mU",
        "outputId": "472cc04c-f4d6-467f-eee4-7e5bed501394"
      },
      "outputs": [
        {
          "output_type": "stream",
          "name": "stdout",
          "text": [
            "INFO:tensorflow:Assets written to: /content/gdrive/MyDrive/Dataset/flower.hs/assets\n"
          ]
        }
      ],
      "source": [
        "model.save(\"/content/gdrive/MyDrive/Dataset/flower.hs\")"
      ]
    },
    {
      "cell_type": "code",
      "execution_count": 109,
      "metadata": {
        "id": "2UDkUckV61_Y"
      },
      "outputs": [],
      "source": [
        "from keras.models import load_model\n",
        "model_path = '/content/gdrive/MyDrive/Dataset/flower.hs'\n",
        "model = load_model(model_path)"
      ]
    }
  ]
}